{
 "cells": [
  {
   "cell_type": "code",
   "execution_count": 1,
   "metadata": {},
   "outputs": [],
   "source": [
    "#from sklearn.tree import DecisionTreeRegressor\n",
    "from sklearn.ensemble import RandomForestRegressor\n",
    "from sklearn.preprocessing import LabelEncoder\n",
    "from sklearn.model_selection import train_test_split\n",
    "from sklearn.metrics import mean_absolute_error\n",
    "import pandas as pd"
   ]
  },
  {
   "cell_type": "code",
   "execution_count": 2,
   "metadata": {},
   "outputs": [],
   "source": [
    "training_data = \"/Users/geanmotta/Desktop/Estudos em investimentos/Dados de emprestimos/archive/lc_2016_2017.csv\"\n",
    "loans = pd.read_csv(training_data, low_memory = False)\n",
    "#loans = loans[loans[\"purpose\"] == \"renewable_energy\"]\n",
    "\n",
    "validation_data = \"/Users/geanmotta/Desktop/Estudos em investimentos/Dados de emprestimos/archive/lc_loan.csv\"\n",
    "new_loans = pd.read_csv(validation_data, low_memory = False)"
   ]
  },
  {
   "cell_type": "code",
   "execution_count": 3,
   "metadata": {},
   "outputs": [],
   "source": [
    "loans[\"term\"] = loans[\"term\"].str.replace(\" months\", \"\")\n",
    "loans.term = loans[\"term\"].astype(int)\n",
    "\n",
    "new_loans[\"term\"] = new_loans[\"term\"].str.replace(\" months\", \"\")\n",
    "new_loans.term = new_loans[\"term\"].astype(int)"
   ]
  },
  {
   "cell_type": "code",
   "execution_count": 4,
   "metadata": {},
   "outputs": [],
   "source": [
    "criteria = [\"loan_amnt\", \"term\", \"installment\"] #,grade\n",
    "\n",
    "# #Remove grade column above and comment this block to remove credit ratings from the criteria\n",
    "# credit_ratings = loans.grade\n",
    "# ratings_encoder = LabelEncoder()\n",
    "# X_grades = (ratings_encoder.fit_transform(credit_ratings))\n",
    "# loans.loc[:, \"grade\"] = X_grades.copy()\n",
    "\n",
    "\n",
    "train_X = loans[criteria]\n",
    "train_y = loans[\"int_rate\"]\n",
    "\n",
    "\n",
    "#You can simply use one of the files, or use past data as the training set and present data for evaluation\n",
    "val_X = new_loans[criteria]\n",
    "val_y = new_loans[\"int_rate\"]"
   ]
  },
  {
   "cell_type": "code",
   "execution_count": 5,
   "metadata": {},
   "outputs": [],
   "source": [
    "#To evaluate MAE\n",
    "def get_mae(max_leaf_nodes, train_X, val_X, train_y, val_y):\n",
    "    model = RandomForestRegressor(max_leaf_nodes=max_leaf_nodes, random_state=0) #DecisionTreeRegressor\n",
    "    model.fit(train_X, train_y)\n",
    "    preds_val = model.predict(val_X)\n",
    "    mae = mean_absolute_error(val_y, preds_val)\n",
    "    return(mae)\n",
    "\n",
    "#For the max_leaf_nodes argument in the analysis model\n",
    "my_branches = [5, 50, 500]\n",
    "\n",
    "#Function to find smalles MAE\n",
    "def shortest_mae(nodes):\n",
    "    tested_maes = []\n",
    "    for i in nodes:\n",
    "        tested_maes.append(get_mae(i, train_X, val_X, train_y, val_y))\n",
    "    return nodes[tested_maes.index(min(tested_maes))]\n",
    "\n",
    "\n",
    "analysis_model = RandomForestRegressor(max_leaf_nodes = shortest_mae(my_branches), random_state = 0) #(random_state = 1)"
   ]
  },
  {
   "cell_type": "code",
   "execution_count": 6,
   "metadata": {},
   "outputs": [],
   "source": [
    "analysis_model.fit(train_X, train_y)\n",
    "\n",
    "predicted_rates = analysis_model.predict(val_X)"
   ]
  },
  {
   "cell_type": "code",
   "execution_count": 7,
   "metadata": {},
   "outputs": [
    {
     "data": {
      "text/plain": [
       "0.6455564330756026"
      ]
     },
     "execution_count": 7,
     "metadata": {},
     "output_type": "execute_result"
    }
   ],
   "source": [
    "mean_absolute_error(predicted_rates, val_y)"
   ]
  },
  {
   "cell_type": "code",
   "execution_count": null,
   "metadata": {},
   "outputs": [],
   "source": []
  }
 ],
 "metadata": {
  "kernelspec": {
   "display_name": "Python 3",
   "language": "python",
   "name": "python3"
  },
  "language_info": {
   "codemirror_mode": {
    "name": "ipython",
    "version": 3
   },
   "file_extension": ".py",
   "mimetype": "text/x-python",
   "name": "python",
   "nbconvert_exporter": "python",
   "pygments_lexer": "ipython3",
   "version": "3.8.3"
  }
 },
 "nbformat": 4,
 "nbformat_minor": 4
}
